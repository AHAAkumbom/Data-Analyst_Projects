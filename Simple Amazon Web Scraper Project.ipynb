{
 "cells": [
  {
   "cell_type": "code",
   "execution_count": 1,
   "id": "c745f0ba",
   "metadata": {},
   "outputs": [],
   "source": [
    "# import libraries \n",
    "\n",
    "from bs4 import BeautifulSoup\n",
    "import requests\n",
    "import time\n",
    "import datetime\n",
    "\n",
    "import smtplib"
   ]
  },
  {
   "cell_type": "code",
   "execution_count": 2,
   "id": "43add6ae",
   "metadata": {},
   "outputs": [
    {
     "name": "stdout",
     "output_type": "stream",
     "text": [
      "\n",
      "            Meta Quest 2 - Advanced All-In-One Virtual Reality Headset - 128 GB (Renewed Premium)\n",
      "           \n",
      "\n",
      "\n",
      "\n",
      "\n",
      "\n",
      "\n",
      "\n",
      "                4.6 out of 5 stars\n",
      "               \n",
      "\n",
      "\n",
      "\n",
      "\n",
      "\n",
      "\n",
      "\n",
      "\n",
      "\n",
      "\n",
      "\n",
      "\n",
      "\n",
      "\n",
      "             2,821 ratings\n",
      "            \n",
      "\n",
      "\n",
      "\n",
      "\n",
      "\n",
      "\n",
      "               $349.99\n",
      "              \n",
      "\n",
      "\n",
      "\n",
      "\n",
      "                           In Stock.\n",
      "                          \n",
      "\n",
      "\n",
      "\n",
      "\n",
      "\n",
      "\n",
      "\n",
      "\n",
      "\n"
     ]
    }
   ],
   "source": [
    "# Connect to Website and pull in data\n",
    "\n",
    "URL = 'https://www.amazon.com/Oculus-Quest-Advanced-All-One-2/dp/B09DDM2371/ref=sr_1_2?crid=3BK4HUEF9CTX1&keywords=oculus&qid=1674203783&sprefix=oculu%2Caps%2C275&sr=8-2'\n",
    "\n",
    "headers = {\"User-Agent\": \"Mozilla/5.0 (Windows NT 10.0; Win64; x64) AppleWebKit/537.36 (KHTML, like Gecko) Chrome/109.0.0.0 Safari/537.36\", \"Accept-Encoding\":\"gzip, deflate\", \"Accept\":\"text/html,application/xhtml+xml,application/xml;q=0.9,*/*;q=0.8\", \"DNT\":\"1\",\"Connection\":\"close\", \"Upgrade-Insecure-Requests\":\"1\"}\n",
    "page = requests.get(URL, headers=headers)\n",
    "\n",
    "soup1 = BeautifulSoup(page.content, \"html.parser\")\n",
    "\n",
    "soup2 = BeautifulSoup(soup1.prettify(), \"html.parser\")\n",
    "\n",
    "title = soup2.find(id='productTitle').get_text()\n",
    "\n",
    "price = soup2.find(id='priceblock_ourprice').get_text()\n",
    "\n",
    "status = soup2.find(id='availabilityInsideBuyBox_feature_div').get_text()\n",
    "\n",
    "average_review = soup2.find(id='averageCustomerReviews').get_text()\n",
    "\n",
    "\n",
    "print(title)\n",
    "print(average_review)\n",
    "print(price)\n",
    "print(status)\n",
    "\n"
   ]
  },
  {
   "cell_type": "code",
   "execution_count": 3,
   "id": "6dad96fc",
   "metadata": {},
   "outputs": [
    {
     "name": "stdout",
     "output_type": "stream",
     "text": [
      "Meta Quest 2 - Advanced All-In-One Virtual Reality Headset - 128 GB (Renewed Premium)\n",
      "4.6 out of 5 stars\n",
      "               \n",
      "\n",
      "\n",
      "\n",
      "\n",
      "\n",
      "\n",
      "\n",
      "\n",
      "\n",
      "\n",
      "\n",
      "\n",
      "\n",
      "\n",
      "             2,821 ratings\n",
      "349.99\n",
      "In Stock.\n"
     ]
    }
   ],
   "source": [
    "# Clean up the data a little bit\n",
    "\n",
    "price = price.strip()[1:]\n",
    "title = title.strip()\n",
    "average_review = average_review.strip()\n",
    "status = status.strip()\n",
    "\n",
    "print(title)\n",
    "print(average_review)\n",
    "print(price)\n",
    "print(status)"
   ]
  },
  {
   "cell_type": "code",
   "execution_count": 4,
   "id": "4fa152af",
   "metadata": {},
   "outputs": [
    {
     "name": "stdout",
     "output_type": "stream",
     "text": [
      "2023-01-20\n"
     ]
    }
   ],
   "source": [
    "# Create a Timestamp for your output to track when data was collected\n",
    "\n",
    "import datetime\n",
    "\n",
    "today = datetime.date.today()\n",
    "\n",
    "print(today)"
   ]
  },
  {
   "cell_type": "code",
   "execution_count": 5,
   "id": "f9b23d14",
   "metadata": {},
   "outputs": [],
   "source": [
    "import csv\n",
    "header = ['Title','Price','Date','Review','Status']\n",
    "data = [title,price,today,average_review,status]\n",
    "\n",
    "with open('AmazonScapperDataSet.csv', 'w' , newline='',encoding='UTF8')  as f:\n",
    "    writer =csv.writer(f)\n",
    "    writer.writerow(header)\n",
    "    writer.writerow(data)\n",
    "    "
   ]
  },
  {
   "cell_type": "code",
   "execution_count": 12,
   "id": "3a21c042",
   "metadata": {
    "scrolled": true
   },
   "outputs": [
    {
     "name": "stdout",
     "output_type": "stream",
     "text": [
      "                                               Title   Price        Date  \\\n",
      "0  Meta Quest 2 - Advanced All-In-One Virtual Rea...  349.99  2023-01-20   \n",
      "1  Meta Quest 2 - Advanced All-In-One Virtual Rea...  349.99  2023-01-20   \n",
      "2  Meta Quest 2 - Advanced All-In-One Virtual Rea...  349.99  2023-01-20   \n",
      "3  Meta Quest 2 - Advanced All-In-One Virtual Rea...  349.99  2023-01-20   \n",
      "4  Meta Quest 2 - Advanced All-In-One Virtual Rea...  349.99  2023-01-20   \n",
      "5  Meta Quest 2 - Advanced All-In-One Virtual Rea...  349.99  2023-01-20   \n",
      "\n",
      "                                              Review     Status  \n",
      "0  4.6 out of 5 stars\\n               \\n\\n\\n\\n\\n\\...  In Stock.  \n",
      "1  4.6 out of 5 stars\\n               \\n\\n\\n\\n\\n\\...  In Stock.  \n",
      "2  4.6 out of 5 stars\\n               \\n\\n\\n\\n\\n\\...  In Stock.  \n",
      "3  4.6 out of 5 stars\\n               \\n\\n\\n\\n\\n\\...  In Stock.  \n",
      "4  4.6 out of 5 stars\\n               \\n\\n\\n\\n\\n\\...  In Stock.  \n",
      "5  4.6 out of 5 stars\\n               \\n\\n\\n\\n\\n\\...  In Stock.  \n"
     ]
    }
   ],
   "source": [
    "import pandas as pd\n",
    "\n",
    "df = pd.read_csv(r'C:\\Users\\h\\Desktop\\AmazonScapperDataSet.csv')\n",
    "\n",
    "print(df)"
   ]
  },
  {
   "cell_type": "code",
   "execution_count": 11,
   "id": "10885a47",
   "metadata": {},
   "outputs": [],
   "source": [
    "#Now we are appending data to the csv\n",
    "\n",
    "with open('AmazonScapperDataSet.csv', 'a+', newline='', encoding='UTF8') as f:\n",
    "    writer = csv.writer(f)\n",
    "    writer.writerow(data)\n",
    "    "
   ]
  },
  {
   "cell_type": "code",
   "execution_count": 13,
   "id": "836fd22c",
   "metadata": {},
   "outputs": [],
   "source": [
    "#Combine all of the above code into one function\n",
    "\n",
    "\n",
    "def check_price():\n",
    "    URL = 'https://www.amazon.com/Oculus-Quest-Advanced-All-One-2/dp/B09DDM2371/ref=mp_s_a_1_4?crid=29VQPNISBFA0S&keywords=Facebook+oculus&qid=1674197662&sprefix=facebook+oculus%2Caps%2C260&sr=8-4'\n",
    "    headers = {\"User-Agent\": \"Mozilla/5.0 (Windows NT 10.0; Win64; x64) AppleWebKit/537.36 (KHTML, like Gecko) Chrome/78.0.3904.108 Safari/537.36\", \"Accept-Encoding\":\"gzip, deflate\", \"Accept\":\"text/html,application/xhtml+xml,application/xml;q=0.9,*/*;q=0.8\", \"DNT\":\"1\",\"Connection\":\"close\", \"Upgrade-Insecure-Requests\":\"1\"}\n",
    "    page = requests.get(URL, headers=headers)\n",
    "    \n",
    "    soup1 = BeautifulSoup(page.content, \"html.parser\")\n",
    "\n",
    "    soup2 = BeautifulSoup(soup1.prettify(), \"html.parser\")\n",
    "\n",
    "    title = soup2.find(id='productTitle').get_text()\n",
    "\n",
    "    price = soup2.find(id='priceblock_ourprice').get_text()\n",
    "\n",
    "    status = soup2.find(id='availabilityInsideBuyBox_feature_div').get_text()\n",
    "\n",
    "    average_review = soup2.find(id='averageCustomerReviews').get_text()\n",
    "    \n",
    "    price = price.strip()[1:]\n",
    "    title = title.strip()\n",
    "    average_review = average_review.strip()\n",
    "    status = status.strip()\n",
    "    \n",
    "    import datetime\n",
    "    today = datetime.date.today()\n",
    "    import csv\n",
    "    header = ['Title','Price','Date','Review','Status']\n",
    "    data = [title,price,today,average_review,status]\n",
    "    \n",
    "    with open('AmazonScapperDataSet.csv', 'a+', newline='', encoding='UTF8') as f:\n",
    "        writer = csv.writer(f)\n",
    "        writer.writerow(data)\n",
    "    if(price < 100):\n",
    "        send_mail()"
   ]
  },
  {
   "cell_type": "code",
   "execution_count": 14,
   "id": "1e7a3668",
   "metadata": {},
   "outputs": [
    {
     "name": "stdout",
     "output_type": "stream",
     "text": [
      "                                               Title   Price        Date  \\\n",
      "0  Meta Quest 2 - Advanced All-In-One Virtual Rea...  349.99  2023-01-20   \n",
      "1  Meta Quest 2 - Advanced All-In-One Virtual Rea...  349.99  2023-01-20   \n",
      "2  Meta Quest 2 - Advanced All-In-One Virtual Rea...  349.99  2023-01-20   \n",
      "3  Meta Quest 2 - Advanced All-In-One Virtual Rea...  349.99  2023-01-20   \n",
      "4  Meta Quest 2 - Advanced All-In-One Virtual Rea...  349.99  2023-01-20   \n",
      "5  Meta Quest 2 - Advanced All-In-One Virtual Rea...  349.99  2023-01-20   \n",
      "\n",
      "                                              Review     Status  \n",
      "0  4.6 out of 5 stars\\n               \\n\\n\\n\\n\\n\\...  In Stock.  \n",
      "1  4.6 out of 5 stars\\n               \\n\\n\\n\\n\\n\\...  In Stock.  \n",
      "2  4.6 out of 5 stars\\n               \\n\\n\\n\\n\\n\\...  In Stock.  \n",
      "3  4.6 out of 5 stars\\n               \\n\\n\\n\\n\\n\\...  In Stock.  \n",
      "4  4.6 out of 5 stars\\n               \\n\\n\\n\\n\\n\\...  In Stock.  \n",
      "5  4.6 out of 5 stars\\n               \\n\\n\\n\\n\\n\\...  In Stock.  \n"
     ]
    }
   ],
   "source": [
    "import pandas as pd\n",
    "print(df)"
   ]
  },
  {
   "cell_type": "code",
   "execution_count": 17,
   "id": "076c93ff",
   "metadata": {},
   "outputs": [],
   "source": [
    "# Runs check_price after a set time and inputs data into your CSV\n",
    "\n",
    "#while(True):\n",
    "    #check_price()\n",
    "    #time.sleep(86400)"
   ]
  },
  {
   "cell_type": "code",
   "execution_count": 16,
   "id": "36259edc",
   "metadata": {},
   "outputs": [
    {
     "name": "stdout",
     "output_type": "stream",
     "text": [
      "                                               Title   Price        Date  \\\n",
      "0  Meta Quest 2 - Advanced All-In-One Virtual Rea...  349.99  2023-01-20   \n",
      "1  Meta Quest 2 - Advanced All-In-One Virtual Rea...  349.99  2023-01-20   \n",
      "2  Meta Quest 2 - Advanced All-In-One Virtual Rea...  349.99  2023-01-20   \n",
      "3  Meta Quest 2 - Advanced All-In-One Virtual Rea...  349.99  2023-01-20   \n",
      "4  Meta Quest 2 - Advanced All-In-One Virtual Rea...  349.99  2023-01-20   \n",
      "5  Meta Quest 2 - Advanced All-In-One Virtual Rea...  349.99  2023-01-20   \n",
      "6  Meta Quest 2 - Advanced All-In-One Virtual Rea...  349.99  2023-01-20   \n",
      "\n",
      "                                              Review     Status  \n",
      "0  4.6 out of 5 stars\\n               \\n\\n\\n\\n\\n\\...  In Stock.  \n",
      "1  4.6 out of 5 stars\\n               \\n\\n\\n\\n\\n\\...  In Stock.  \n",
      "2  4.6 out of 5 stars\\n               \\n\\n\\n\\n\\n\\...  In Stock.  \n",
      "3  4.6 out of 5 stars\\n               \\n\\n\\n\\n\\n\\...  In Stock.  \n",
      "4  4.6 out of 5 stars\\n               \\n\\n\\n\\n\\n\\...  In Stock.  \n",
      "5  4.6 out of 5 stars\\n               \\n\\n\\n\\n\\n\\...  In Stock.  \n",
      "6  4.6 out of 5 stars\\n               \\n\\n\\n\\n\\n\\...  In Stock.  \n"
     ]
    }
   ],
   "source": [
    "import pandas as pd\n",
    "\n",
    "df = pd.read_csv(r'C:\\Users\\h\\Desktop\\AmazonScapperDataSet.csv')\n",
    "\n",
    "print(df)"
   ]
  },
  {
   "cell_type": "code",
   "execution_count": 18,
   "id": "0c2f0403",
   "metadata": {},
   "outputs": [],
   "source": [
    "# If uou want to try sending yourself an email (just for fun) when a price hits below a certain level you can try it\n",
    "# out with this script\n",
    "\n",
    "def send_mail():\n",
    "    server = smtplib.SMTP_SSL('smtp.gmail.com',465)\n",
    "    server.ehlo()\n",
    "    #server.starttls()\n",
    "    server.ehlo()\n",
    "    server.login('hakumbom7@gmail.com','xxxxxxxxxxxxxx')\n",
    "    \n",
    "    subject = \"The Occulus VR Head Set you want is below $150! Now is your chance to buy!\"\n",
    "    body = \"Haggai, This is the moment we have been waiting for. Now is your chance to pick up the shirt of your dreams. Don't mess it up! Link here: https://www.amazon.com/Funny-Data-Systems-Business-Analyst/dp/B07FNW9FGJ/ref=sr_1_3?dchild=1&keywords=data+analyst+tshirt&qid=1626655184&sr=8-3\"\n",
    "   \n",
    "    msg = f\"Subject: {subject}\\n\\n{body}\"\n",
    "    \n",
    "    server.sendmail(\n",
    "        'hakumbom7@gmail.com',\n",
    "        msg\n",
    "     \n",
    "    )"
   ]
  },
  {
   "cell_type": "code",
   "execution_count": null,
   "id": "3aa56fcc",
   "metadata": {},
   "outputs": [],
   "source": []
  }
 ],
 "metadata": {
  "kernelspec": {
   "display_name": "Python 3 (ipykernel)",
   "language": "python",
   "name": "python3"
  },
  "language_info": {
   "codemirror_mode": {
    "name": "ipython",
    "version": 3
   },
   "file_extension": ".py",
   "mimetype": "text/x-python",
   "name": "python",
   "nbconvert_exporter": "python",
   "pygments_lexer": "ipython3",
   "version": "3.9.12"
  }
 },
 "nbformat": 4,
 "nbformat_minor": 5
}
